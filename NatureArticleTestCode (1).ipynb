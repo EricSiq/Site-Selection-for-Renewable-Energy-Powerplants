{
  "nbformat": 4,
  "nbformat_minor": 0,
  "metadata": {
    "colab": {
      "provenance": [],
      "gpuType": "T4"
    },
    "kernelspec": {
      "name": "python3",
      "display_name": "Python 3"
    },
    "language_info": {
      "name": "python"
    },
    "accelerator": "GPU"
  },
  "cells": [
    {
      "cell_type": "code",
      "source": [
        "!pip install rasterio shapely opencv-python\n",
        "!pip install fiona geopandas\n",
        "!pip install pystac_client planetary_computer"
      ],
      "metadata": {
        "colab": {
          "base_uri": "https://localhost:8080/"
        },
        "id": "CsuGoH3Q57ab",
        "outputId": "a40ef9a8-9f73-4944-9b04-4224353ccf75"
      },
      "execution_count": null,
      "outputs": [
        {
          "output_type": "stream",
          "name": "stdout",
          "text": [
            "Requirement already satisfied: rasterio in /usr/local/lib/python3.11/dist-packages (1.4.3)\n",
            "Requirement already satisfied: shapely in /usr/local/lib/python3.11/dist-packages (2.0.7)\n",
            "Requirement already satisfied: opencv-python in /usr/local/lib/python3.11/dist-packages (4.11.0.86)\n",
            "Requirement already satisfied: affine in /usr/local/lib/python3.11/dist-packages (from rasterio) (2.4.0)\n",
            "Requirement already satisfied: attrs in /usr/local/lib/python3.11/dist-packages (from rasterio) (25.3.0)\n",
            "Requirement already satisfied: certifi in /usr/local/lib/python3.11/dist-packages (from rasterio) (2025.1.31)\n",
            "Requirement already satisfied: click>=4.0 in /usr/local/lib/python3.11/dist-packages (from rasterio) (8.1.8)\n",
            "Requirement already satisfied: cligj>=0.5 in /usr/local/lib/python3.11/dist-packages (from rasterio) (0.7.2)\n",
            "Requirement already satisfied: numpy>=1.24 in /usr/local/lib/python3.11/dist-packages (from rasterio) (2.0.2)\n",
            "Requirement already satisfied: click-plugins in /usr/local/lib/python3.11/dist-packages (from rasterio) (1.1.1)\n",
            "Requirement already satisfied: pyparsing in /usr/local/lib/python3.11/dist-packages (from rasterio) (3.2.1)\n",
            "Requirement already satisfied: fiona in /usr/local/lib/python3.11/dist-packages (1.10.1)\n",
            "Requirement already satisfied: geopandas in /usr/local/lib/python3.11/dist-packages (1.0.1)\n",
            "Requirement already satisfied: attrs>=19.2.0 in /usr/local/lib/python3.11/dist-packages (from fiona) (25.3.0)\n",
            "Requirement already satisfied: certifi in /usr/local/lib/python3.11/dist-packages (from fiona) (2025.1.31)\n",
            "Requirement already satisfied: click~=8.0 in /usr/local/lib/python3.11/dist-packages (from fiona) (8.1.8)\n",
            "Requirement already satisfied: click-plugins>=1.0 in /usr/local/lib/python3.11/dist-packages (from fiona) (1.1.1)\n",
            "Requirement already satisfied: cligj>=0.5 in /usr/local/lib/python3.11/dist-packages (from fiona) (0.7.2)\n",
            "Requirement already satisfied: numpy>=1.22 in /usr/local/lib/python3.11/dist-packages (from geopandas) (2.0.2)\n",
            "Requirement already satisfied: pyogrio>=0.7.2 in /usr/local/lib/python3.11/dist-packages (from geopandas) (0.10.0)\n",
            "Requirement already satisfied: packaging in /usr/local/lib/python3.11/dist-packages (from geopandas) (24.2)\n",
            "Requirement already satisfied: pandas>=1.4.0 in /usr/local/lib/python3.11/dist-packages (from geopandas) (2.2.2)\n",
            "Requirement already satisfied: pyproj>=3.3.0 in /usr/local/lib/python3.11/dist-packages (from geopandas) (3.7.1)\n",
            "Requirement already satisfied: shapely>=2.0.0 in /usr/local/lib/python3.11/dist-packages (from geopandas) (2.0.7)\n",
            "Requirement already satisfied: python-dateutil>=2.8.2 in /usr/local/lib/python3.11/dist-packages (from pandas>=1.4.0->geopandas) (2.8.2)\n",
            "Requirement already satisfied: pytz>=2020.1 in /usr/local/lib/python3.11/dist-packages (from pandas>=1.4.0->geopandas) (2025.1)\n",
            "Requirement already satisfied: tzdata>=2022.7 in /usr/local/lib/python3.11/dist-packages (from pandas>=1.4.0->geopandas) (2025.1)\n",
            "Requirement already satisfied: six>=1.5 in /usr/local/lib/python3.11/dist-packages (from python-dateutil>=2.8.2->pandas>=1.4.0->geopandas) (1.17.0)\n",
            "Requirement already satisfied: pystac_client in /usr/local/lib/python3.11/dist-packages (0.8.6)\n",
            "Requirement already satisfied: planetary_computer in /usr/local/lib/python3.11/dist-packages (1.0.0)\n",
            "Requirement already satisfied: requests>=2.28.2 in /usr/local/lib/python3.11/dist-packages (from pystac_client) (2.32.3)\n",
            "Requirement already satisfied: pystac>=1.10.0 in /usr/local/lib/python3.11/dist-packages (from pystac[validation]>=1.10.0->pystac_client) (1.12.2)\n",
            "Requirement already satisfied: python-dateutil>=2.8.2 in /usr/local/lib/python3.11/dist-packages (from pystac_client) (2.8.2)\n",
            "Requirement already satisfied: click>=7.1 in /usr/local/lib/python3.11/dist-packages (from planetary_computer) (8.1.8)\n",
            "Requirement already satisfied: pydantic>=1.7.3 in /usr/local/lib/python3.11/dist-packages (from planetary_computer) (2.10.6)\n",
            "Requirement already satisfied: pytz>=2020.5 in /usr/local/lib/python3.11/dist-packages (from planetary_computer) (2025.1)\n",
            "Requirement already satisfied: packaging in /usr/local/lib/python3.11/dist-packages (from planetary_computer) (24.2)\n",
            "Requirement already satisfied: python-dotenv in /usr/local/lib/python3.11/dist-packages (from planetary_computer) (1.1.0)\n",
            "Requirement already satisfied: annotated-types>=0.6.0 in /usr/local/lib/python3.11/dist-packages (from pydantic>=1.7.3->planetary_computer) (0.7.0)\n",
            "Requirement already satisfied: pydantic-core==2.27.2 in /usr/local/lib/python3.11/dist-packages (from pydantic>=1.7.3->planetary_computer) (2.27.2)\n",
            "Requirement already satisfied: typing-extensions>=4.12.2 in /usr/local/lib/python3.11/dist-packages (from pydantic>=1.7.3->planetary_computer) (4.12.2)\n",
            "Requirement already satisfied: jsonschema~=4.18 in /usr/local/lib/python3.11/dist-packages (from pystac[validation]>=1.10.0->pystac_client) (4.23.0)\n",
            "Requirement already satisfied: six>=1.5 in /usr/local/lib/python3.11/dist-packages (from python-dateutil>=2.8.2->pystac_client) (1.17.0)\n",
            "Requirement already satisfied: charset-normalizer<4,>=2 in /usr/local/lib/python3.11/dist-packages (from requests>=2.28.2->pystac_client) (3.4.1)\n",
            "Requirement already satisfied: idna<4,>=2.5 in /usr/local/lib/python3.11/dist-packages (from requests>=2.28.2->pystac_client) (3.10)\n",
            "Requirement already satisfied: urllib3<3,>=1.21.1 in /usr/local/lib/python3.11/dist-packages (from requests>=2.28.2->pystac_client) (2.3.0)\n",
            "Requirement already satisfied: certifi>=2017.4.17 in /usr/local/lib/python3.11/dist-packages (from requests>=2.28.2->pystac_client) (2025.1.31)\n",
            "Requirement already satisfied: attrs>=22.2.0 in /usr/local/lib/python3.11/dist-packages (from jsonschema~=4.18->pystac[validation]>=1.10.0->pystac_client) (25.3.0)\n",
            "Requirement already satisfied: jsonschema-specifications>=2023.03.6 in /usr/local/lib/python3.11/dist-packages (from jsonschema~=4.18->pystac[validation]>=1.10.0->pystac_client) (2024.10.1)\n",
            "Requirement already satisfied: referencing>=0.28.4 in /usr/local/lib/python3.11/dist-packages (from jsonschema~=4.18->pystac[validation]>=1.10.0->pystac_client) (0.36.2)\n",
            "Requirement already satisfied: rpds-py>=0.7.1 in /usr/local/lib/python3.11/dist-packages (from jsonschema~=4.18->pystac[validation]>=1.10.0->pystac_client) (0.23.1)\n"
          ]
        }
      ]
    },
    {
      "cell_type": "code",
      "source": [
        "!pip install xarray rioxarray\n"
      ],
      "metadata": {
        "colab": {
          "base_uri": "https://localhost:8080/"
        },
        "id": "aMWrh-_PhwVJ",
        "outputId": "bfcfef95-60fd-4821-9900-97ec1c0b993b"
      },
      "execution_count": null,
      "outputs": [
        {
          "output_type": "stream",
          "name": "stdout",
          "text": [
            "Requirement already satisfied: xarray in /usr/local/lib/python3.11/dist-packages (2025.1.2)\n",
            "Requirement already satisfied: rioxarray in /usr/local/lib/python3.11/dist-packages (0.18.2)\n",
            "Requirement already satisfied: numpy>=1.24 in /usr/local/lib/python3.11/dist-packages (from xarray) (2.0.2)\n",
            "Requirement already satisfied: packaging>=23.2 in /usr/local/lib/python3.11/dist-packages (from xarray) (24.2)\n",
            "Requirement already satisfied: pandas>=2.1 in /usr/local/lib/python3.11/dist-packages (from xarray) (2.2.2)\n",
            "Requirement already satisfied: rasterio>=1.3.7 in /usr/local/lib/python3.11/dist-packages (from rioxarray) (1.4.3)\n",
            "Requirement already satisfied: pyproj>=3.3 in /usr/local/lib/python3.11/dist-packages (from rioxarray) (3.7.1)\n",
            "Requirement already satisfied: python-dateutil>=2.8.2 in /usr/local/lib/python3.11/dist-packages (from pandas>=2.1->xarray) (2.8.2)\n",
            "Requirement already satisfied: pytz>=2020.1 in /usr/local/lib/python3.11/dist-packages (from pandas>=2.1->xarray) (2025.1)\n",
            "Requirement already satisfied: tzdata>=2022.7 in /usr/local/lib/python3.11/dist-packages (from pandas>=2.1->xarray) (2025.1)\n",
            "Requirement already satisfied: certifi in /usr/local/lib/python3.11/dist-packages (from pyproj>=3.3->rioxarray) (2025.1.31)\n",
            "Requirement already satisfied: affine in /usr/local/lib/python3.11/dist-packages (from rasterio>=1.3.7->rioxarray) (2.4.0)\n",
            "Requirement already satisfied: attrs in /usr/local/lib/python3.11/dist-packages (from rasterio>=1.3.7->rioxarray) (25.3.0)\n",
            "Requirement already satisfied: click>=4.0 in /usr/local/lib/python3.11/dist-packages (from rasterio>=1.3.7->rioxarray) (8.1.8)\n",
            "Requirement already satisfied: cligj>=0.5 in /usr/local/lib/python3.11/dist-packages (from rasterio>=1.3.7->rioxarray) (0.7.2)\n",
            "Requirement already satisfied: click-plugins in /usr/local/lib/python3.11/dist-packages (from rasterio>=1.3.7->rioxarray) (1.1.1)\n",
            "Requirement already satisfied: pyparsing in /usr/local/lib/python3.11/dist-packages (from rasterio>=1.3.7->rioxarray) (3.2.1)\n",
            "Requirement already satisfied: six>=1.5 in /usr/local/lib/python3.11/dist-packages (from python-dateutil>=2.8.2->pandas>=2.1->xarray) (1.17.0)\n"
          ]
        }
      ]
    },
    {
      "cell_type": "code",
      "source": [
        "from pystac_client import Client\n",
        "\n",
        "# Connect to Planetary Computer STAC\n",
        "stac_url = \"https://planetarycomputer.microsoft.com/api/stac/v1\"\n",
        "stac_client = Client.open(stac_url)\n",
        "\n",
        "# Search for Sentinel-2 images\n",
        "search = stac_client.search(\n",
        "    collections=[\"sentinel-2-l2a\"],\n",
        "    bbox=[-122.52, 37.70, -122.35, 37.85],  # Bounding box (longitude, latitude)\n",
        "    datetime=\"2015-01-01/2020-12-31\",  # Time range\n",
        ")\n",
        "\n",
        "# Get matching items\n",
        "items = list(search.get_items())\n",
        "print(f\"Found {len(items)} items\")\n",
        "# Print properties of first item\n",
        "if items:\n",
        "    print(items[0].properties.keys())\n"
      ],
      "metadata": {
        "colab": {
          "base_uri": "https://localhost:8080/"
        },
        "id": "8aSqSkVXh2oB",
        "outputId": "3745e04b-409a-436c-c0ee-b263709125d4"
      },
      "execution_count": null,
      "outputs": [
        {
          "output_type": "stream",
          "name": "stderr",
          "text": [
            "/usr/local/lib/python3.11/dist-packages/pystac_client/item_search.py:881: FutureWarning: get_items() is deprecated, use items() instead\n",
            "  warnings.warn(\n"
          ]
        },
        {
          "output_type": "stream",
          "name": "stdout",
          "text": [
            "Found 307 items\n",
            "dict_keys(['datetime', 'platform', 'instruments', 's2:mgrs_tile', 'constellation', 's2:granule_id', 'eo:cloud_cover', 's2:datatake_id', 's2:product_uri', 's2:datastrip_id', 's2:product_type', 'sat:orbit_state', 's2:datatake_type', 's2:generation_time', 'sat:relative_orbit', 's2:water_percentage', 's2:mean_solar_zenith', 's2:mean_solar_azimuth', 's2:processing_baseline', 's2:snow_ice_percentage', 's2:vegetation_percentage', 's2:thin_cirrus_percentage', 's2:cloud_shadow_percentage', 's2:nodata_pixel_percentage', 's2:unclassified_percentage', 's2:dark_features_percentage', 's2:not_vegetated_percentage', 's2:degraded_msi_data_percentage', 's2:high_proba_clouds_percentage', 's2:reflectance_conversion_factor', 's2:medium_proba_clouds_percentage', 's2:saturated_defective_pixel_percentage', 'proj:code'])\n"
          ]
        }
      ]
    },
    {
      "cell_type": "code",
      "source": [
        "import planetary_computer as pc\n",
        "pc.settings.set_subscription_key(123456)"
      ],
      "metadata": {
        "id": "E5JBNYU1h8yS"
      },
      "execution_count": null,
      "outputs": []
    },
    {
      "cell_type": "code",
      "execution_count": null,
      "metadata": {
        "id": "ZeCrj_Gt3f4Q"
      },
      "outputs": [],
      "source": [
        "\n",
        "import sys\n",
        "sys.path.append(\"..\")\n",
        "\n",
        "import numpy as np\n",
        "import matplotlib.pyplot as plt\n",
        "\n",
        "import imageio\n",
        "import shapely\n",
        "import rasterio\n",
        "from rasterio.mask import mask as rio_mask\n",
        "from shapely import geometry\n",
        "import cv2\n",
        "\n",
        "from utils import tcm_algorithms as tcm\n",
        "from utils import utils\n",
        "from data import data_interface as DataInterface"
      ]
    },
    {
      "cell_type": "code",
      "source": [
        "\n",
        "RASTERIO_BEST_PRACTICES = dict(\n",
        "    CURL_CA_BUNDLE='/etc/ssl/certs/ca-certificates.crt',\n",
        "    GDAL_DISABLE_READDIR_ON_OPEN='EMPTY_DIR',\n",
        "    AWS_NO_SIGN_REQUEST='YES',\n",
        "    GDAL_MAX_RAW_BLOCK_CACHE_SIZE='200000000',\n",
        "    GDAL_SWATH_SIZE='200000000',\n",
        "    VSI_CURL_CACHE_SIZE='200000000'\n",
        ")"
      ],
      "metadata": {
        "id": "8oB5uS6p56G3"
      },
      "execution_count": null,
      "outputs": []
    },
    {
      "cell_type": "code",
      "source": [
        "def show_images(images, titles=None):\n",
        "    #Function to plot images into a figure\n",
        "    num_images = len(images)\n",
        "    if titles is not None:\n",
        "        assert len(titles) == num_images\n",
        "\n",
        "    fig, axs = plt.subplots(1, num_images, figsize=(num_images*4, 4))\n",
        "    axs = axs.flatten()\n",
        "    for i in range(num_images):\n",
        "\n",
        "        axs[i].imshow(images[i])\n",
        "        if titles is not None:\n",
        "            axs[i].set_title(titles[i])\n",
        "        axs[i].axis(\"off\")\n",
        "        axs[i].get_xaxis().set_visible(False)\n",
        "        axs[i].get_yaxis().set_visible(False)\n",
        "\n",
        "    plt.show()\n",
        "    plt.close()"
      ],
      "metadata": {
        "id": "Gb7c3RK-6Ljd"
      },
      "execution_count": null,
      "outputs": []
    },
    {
      "cell_type": "code",
      "source": [
        "def running_mean(x, N):\n",
        "\n",
        "    cumsum = np.cumsum(np.insert(x, 0, 0))\n",
        "    return (cumsum[N:] - cumsum[:-N]) / float(N)\n",
        "\n",
        "def largest_smaller(X, k):\n",
        "    #Function to fond the index of the largest value in X smaller than k\n",
        "    right_idx = X.searchsorted(k,'right')-1\n",
        "    return right_idx"
      ],
      "metadata": {
        "id": "I-rS5Nn98f0Z"
      },
      "execution_count": null,
      "outputs": []
    },
    {
      "cell_type": "code",
      "source": [
        "import fiona\n",
        "\n",
        "\n",
        "def get_all_geoms_from_file(fn):\n",
        "    geoms = []\n",
        "    with fiona.open(fn, driver='GeoJSON') as f: # Explicitly specify the driver\n",
        "        for row in f:\n",
        "            geom = row[\"geometry\"]\n",
        "            geoms.append(geom)\n",
        "    return geoms"
      ],
      "metadata": {
        "id": "2wFB8saYXwE-"
      },
      "execution_count": null,
      "outputs": []
    },
    {
      "cell_type": "code",
      "source": [
        "# Add your planetary computer subscription key here\n",
        "\n",
        "PC_SUBSCRIPTION_KEY = \"123456\""
      ],
      "metadata": {
        "id": "AB4qH2pQxicn"
      },
      "execution_count": null,
      "outputs": []
    },
    {
      "cell_type": "code",
      "source": [
        "import os\n",
        "import fiona\n",
        "\n",
        "# Methods for getting solar farm geoms\n",
        "def get_solar_farm_geoms(base_dir=\"./data/\", polygons_fn=\"solar_farms_India_merged_4326.geojson\"):\n",
        "    # Correct the file path by directly joining the base directory and the file name.\n",
        "    file_path = os.path.join(base_dir, polygons_fn)\n",
        "    return get_all_geoms_from_file(file_path)\n",
        "\n",
        "def get_all_geoms_from_file(fn):\n",
        "    geoms = []\n",
        "    with fiona.open(fn, driver='GeoJSON') as f:  # Explicitly specify the driver\n",
        "        for row in f:\n",
        "            geom = row[\"geometry\"]\n",
        "            geoms.append(geom)\n",
        "    return geoms"
      ],
      "metadata": {
        "id": "r4Lj9KtItg00"
      },
      "execution_count": null,
      "outputs": []
    },
    {
      "cell_type": "code",
      "source": [
        "def get_data_stack_from_geom(self, geom_idx, buffer):\n",
        "    crss = set()\n",
        "    for item in items:\n",
        "        # Try different possible property keys or use a default\n",
        "        epsg_code = item.properties.get(\"proj:epsg\")  # This will return None if the key is not found\n",
        "        if epsg_code:\n",
        "            crss.add(epsg_code)\n",
        "        else:\n",
        "            print(f\"Warning: 'proj:epsg' not found in item properties. Available keys: {item.properties.keys()}\")\n"
      ],
      "metadata": {
        "id": "zKFBNHPpBROk"
      },
      "execution_count": null,
      "outputs": []
    },
    {
      "cell_type": "code",
      "source": [
        "import geopandas as gpd\n",
        "\n",
        "# Load the GeoJSON file\n",
        "gdf = gpd.read_file('/content/solar_farms_india_2021_merged.geojson')\n",
        "\n",
        "\n",
        "len(geoms)\n",
        "geom_id = 80\n",
        "buffer = 10"
      ],
      "metadata": {
        "id": "YhSQP6bKxks_"
      },
      "execution_count": null,
      "outputs": []
    },
    {
      "cell_type": "code",
      "source": [
        "geoms = utils.get_solar_farm_geoms(base_dir=\"/content/\",\n",
        "                                  polygons_fn=\"solar_farms_india_2021_merged.geojson\")\n"
      ],
      "metadata": {
        "id": "2sq-M0Mx8i1e"
      },
      "execution_count": null,
      "outputs": []
    },
    {
      "cell_type": "code",
      "source": [
        "# PC dataloader is instantiated\n",
        "dataloader = DataInterface.PlanetaryComputerS2DataLoader(geoms, pc_subscription_key=PC_SUBSCRIPTION_KEY)"
      ],
      "metadata": {
        "id": "858oWs3U8lP1"
      },
      "execution_count": null,
      "outputs": []
    },
    {
      "cell_type": "code",
      "source": [
        "# Add this at the beginning of the get_data_stack_from_geom method to debug\n",
        "print(\"Available properties keys:\", items[0].properties.keys())"
      ],
      "metadata": {
        "colab": {
          "base_uri": "https://localhost:8080/"
        },
        "id": "y0h0skPry1gn",
        "outputId": "36d615f6-cb4d-475f-bd34-1ab5480926df"
      },
      "execution_count": null,
      "outputs": [
        {
          "output_type": "stream",
          "name": "stdout",
          "text": [
            "Available properties keys: dict_keys(['datetime', 'platform', 'instruments', 's2:mgrs_tile', 'constellation', 's2:granule_id', 'eo:cloud_cover', 's2:datatake_id', 's2:product_uri', 's2:datastrip_id', 's2:product_type', 'sat:orbit_state', 's2:datatake_type', 's2:generation_time', 'sat:relative_orbit', 's2:water_percentage', 's2:mean_solar_zenith', 's2:mean_solar_azimuth', 's2:processing_baseline', 's2:snow_ice_percentage', 's2:vegetation_percentage', 's2:thin_cirrus_percentage', 's2:cloud_shadow_percentage', 's2:nodata_pixel_percentage', 's2:unclassified_percentage', 's2:dark_features_percentage', 's2:not_vegetated_percentage', 's2:degraded_msi_data_percentage', 's2:high_proba_clouds_percentage', 's2:reflectance_conversion_factor', 's2:medium_proba_clouds_percentage', 's2:saturated_defective_pixel_percentage', 'proj:code'])\n"
          ]
        }
      ]
    },
    {
      "cell_type": "code",
      "source": [
        "def get_data_stack_from_geom(self, geom_idx, buffer):\n",
        "    crss = set()\n",
        "    for item in items:\n",
        "        # Use 'proj:code' instead of 'proj:epsg'\n",
        "        epsg_code = item.properties.get(\"proj:code\")\n",
        "        if epsg_code:\n",
        "            crss.add(epsg_code)\n",
        "        else:\n",
        "            print(f\"Warning: 'proj:code' not found in item properties. Available keys: {item.properties.keys()}\")\n",
        "\n",
        "    # Continue with the rest of your function\n"
      ],
      "metadata": {
        "id": "YM4ZOezRBlrp"
      },
      "execution_count": null,
      "outputs": []
    },
    {
      "cell_type": "code",
      "source": [
        "%%time\n",
        "rgb_images, dates = dataloader.get_rgb_chips_from_geom(geom_id, buffer=buffer, show_outline=True)"
      ],
      "metadata": {
        "colab": {
          "base_uri": "https://localhost:8080/",
          "height": 473
        },
        "id": "Q4_Ir8xCy9Z7",
        "outputId": "90b3310f-fcf3-4a58-f857-544fccfd8520"
      },
      "execution_count": null,
      "outputs": [
        {
          "output_type": "stream",
          "name": "stderr",
          "text": [
            "/usr/local/lib/python3.11/dist-packages/pystac_client/item_search.py:881: FutureWarning: get_items() is deprecated, use items() instead\n",
            "  warnings.warn(\n"
          ]
        },
        {
          "output_type": "stream",
          "name": "stdout",
          "text": [
            "Returned 41 Items\n"
          ]
        },
        {
          "output_type": "error",
          "ename": "KeyError",
          "evalue": "'proj:epsg'",
          "traceback": [
            "\u001b[0;31m---------------------------------------------------------------------------\u001b[0m",
            "\u001b[0;31mKeyError\u001b[0m                                  Traceback (most recent call last)",
            "\u001b[0;32m<timed exec>\u001b[0m in \u001b[0;36m<module>\u001b[0;34m\u001b[0m\n",
            "\u001b[0;32m/content/data/data_interface.py\u001b[0m in \u001b[0;36mget_rgb_chips_from_geom\u001b[0;34m(self, geom_idx, buffer, show_outline)\u001b[0m\n\u001b[1;32m    237\u001b[0m     \u001b[0;32mdef\u001b[0m \u001b[0mget_rgb_chips_from_geom\u001b[0m\u001b[0;34m(\u001b[0m\u001b[0mself\u001b[0m\u001b[0;34m,\u001b[0m \u001b[0mgeom_idx\u001b[0m\u001b[0;34m,\u001b[0m \u001b[0mbuffer\u001b[0m\u001b[0;34m,\u001b[0m \u001b[0mshow_outline\u001b[0m\u001b[0;34m=\u001b[0m\u001b[0;32mTrue\u001b[0m\u001b[0;34m)\u001b[0m\u001b[0;34m:\u001b[0m\u001b[0;34m\u001b[0m\u001b[0;34m\u001b[0m\u001b[0m\n\u001b[1;32m    238\u001b[0m \u001b[0;34m\u001b[0m\u001b[0m\n\u001b[0;32m--> 239\u001b[0;31m         \u001b[0mimages\u001b[0m\u001b[0;34m,\u001b[0m \u001b[0mmasks\u001b[0m\u001b[0;34m,\u001b[0m \u001b[0mdates\u001b[0m \u001b[0;34m=\u001b[0m \u001b[0mself\u001b[0m\u001b[0;34m.\u001b[0m\u001b[0mget_data_stack_from_geom\u001b[0m\u001b[0;34m(\u001b[0m\u001b[0mgeom_idx\u001b[0m\u001b[0;34m,\u001b[0m \u001b[0mbuffer\u001b[0m\u001b[0;34m)\u001b[0m\u001b[0;34m\u001b[0m\u001b[0;34m\u001b[0m\u001b[0m\n\u001b[0m\u001b[1;32m    240\u001b[0m         \u001b[0;32mif\u001b[0m \u001b[0mshow_outline\u001b[0m\u001b[0;34m:\u001b[0m\u001b[0;34m\u001b[0m\u001b[0;34m\u001b[0m\u001b[0m\n\u001b[1;32m    241\u001b[0m             \u001b[0mnew_images\u001b[0m \u001b[0;34m=\u001b[0m \u001b[0;34m[\u001b[0m\u001b[0;34m]\u001b[0m\u001b[0;34m\u001b[0m\u001b[0;34m\u001b[0m\u001b[0m\n",
            "\u001b[0;32m/content/data/data_interface.py\u001b[0m in \u001b[0;36mget_data_stack_from_geom\u001b[0;34m(self, geom_idx, buffer)\u001b[0m\n\u001b[1;32m    255\u001b[0m         \u001b[0mcrss\u001b[0m \u001b[0;34m=\u001b[0m \u001b[0mset\u001b[0m\u001b[0;34m(\u001b[0m\u001b[0;34m)\u001b[0m\u001b[0;34m\u001b[0m\u001b[0;34m\u001b[0m\u001b[0m\n\u001b[1;32m    256\u001b[0m         \u001b[0;32mfor\u001b[0m \u001b[0mitem\u001b[0m \u001b[0;32min\u001b[0m \u001b[0mitems\u001b[0m\u001b[0;34m:\u001b[0m\u001b[0;34m\u001b[0m\u001b[0;34m\u001b[0m\u001b[0m\n\u001b[0;32m--> 257\u001b[0;31m             \u001b[0mcrss\u001b[0m\u001b[0;34m.\u001b[0m\u001b[0madd\u001b[0m\u001b[0;34m(\u001b[0m\u001b[0mitem\u001b[0m\u001b[0;34m.\u001b[0m\u001b[0mproperties\u001b[0m\u001b[0;34m[\u001b[0m\u001b[0;34m\"proj:epsg\"\u001b[0m\u001b[0;34m]\u001b[0m\u001b[0;34m)\u001b[0m\u001b[0;34m\u001b[0m\u001b[0;34m\u001b[0m\u001b[0m\n\u001b[0m\u001b[1;32m    258\u001b[0m         \u001b[0;32massert\u001b[0m \u001b[0mlen\u001b[0m\u001b[0;34m(\u001b[0m\u001b[0mcrss\u001b[0m\u001b[0;34m)\u001b[0m \u001b[0;34m==\u001b[0m \u001b[0;36m1\u001b[0m\u001b[0;34m\u001b[0m\u001b[0;34m\u001b[0m\u001b[0m\n\u001b[1;32m    259\u001b[0m         \u001b[0mdst_crs\u001b[0m \u001b[0;34m=\u001b[0m \u001b[0;34m\"epsg:\"\u001b[0m \u001b[0;34m+\u001b[0m \u001b[0mstr\u001b[0m\u001b[0;34m(\u001b[0m\u001b[0mlist\u001b[0m\u001b[0;34m(\u001b[0m\u001b[0mcrss\u001b[0m\u001b[0;34m)\u001b[0m\u001b[0;34m[\u001b[0m\u001b[0;36m0\u001b[0m\u001b[0;34m]\u001b[0m\u001b[0;34m)\u001b[0m\u001b[0;34m\u001b[0m\u001b[0;34m\u001b[0m\u001b[0m\n",
            "\u001b[0;31mKeyError\u001b[0m: 'proj:epsg'"
          ]
        }
      ]
    },
    {
      "cell_type": "code",
      "source": [
        "print(\"{} matching image chips found\".format(len(rgb_images)))"
      ],
      "metadata": {
        "id": "FlkbA_X58qbe",
        "colab": {
          "base_uri": "https://localhost:8080/",
          "height": 141
        },
        "outputId": "78349502-daf0-41f2-82c6-cbfdfbfe5e66"
      },
      "execution_count": null,
      "outputs": [
        {
          "output_type": "error",
          "ename": "NameError",
          "evalue": "name 'rgb_images' is not defined",
          "traceback": [
            "\u001b[0;31m---------------------------------------------------------------------------\u001b[0m",
            "\u001b[0;31mNameError\u001b[0m                                 Traceback (most recent call last)",
            "\u001b[0;32m<ipython-input-155-34950744db49>\u001b[0m in \u001b[0;36m<cell line: 0>\u001b[0;34m()\u001b[0m\n\u001b[0;32m----> 1\u001b[0;31m \u001b[0mprint\u001b[0m\u001b[0;34m(\u001b[0m\u001b[0;34m\"{} matching image chips found\"\u001b[0m\u001b[0;34m.\u001b[0m\u001b[0mformat\u001b[0m\u001b[0;34m(\u001b[0m\u001b[0mlen\u001b[0m\u001b[0;34m(\u001b[0m\u001b[0mrgb_images\u001b[0m\u001b[0;34m)\u001b[0m\u001b[0;34m)\u001b[0m\u001b[0;34m)\u001b[0m\u001b[0;34m\u001b[0m\u001b[0;34m\u001b[0m\u001b[0m\n\u001b[0m",
            "\u001b[0;31mNameError\u001b[0m: name 'rgb_images' is not defined"
          ]
        }
      ]
    },
    {
      "cell_type": "code",
      "source": [
        "%%time\n",
        "data_images, masks, dates = dataloader.get_data_stack_from_geom(geom_id, buffer=buffer)"
      ],
      "metadata": {
        "id": "lkzDoDiz8sKX"
      },
      "execution_count": null,
      "outputs": []
    },
    {
      "cell_type": "code",
      "source": [
        "%%time\n",
        "divergence_values = tcm.calculate_change_values(data_images, masks, n_clusters=64, use_minibatch=True)"
      ],
      "metadata": {
        "id": "PTwsE2fr8tee"
      },
      "execution_count": null,
      "outputs": []
    },
    {
      "cell_type": "code",
      "source": [
        "\n",
        "for i in range(len(dates)):\n",
        "    plt.figure(figsize=(4,3))\n",
        "    plt.imshow(rgb_images[i])\n",
        "    plt.axis(\"off\")\n",
        "    plt.title(f\"{dates[i]} ({i}) -- Divergence: {divergence_values[i]:0.4f}\")\n",
        "    plt.show()\n",
        "    plt.close()"
      ],
      "metadata": {
        "id": "kDeHRy728vt9"
      },
      "execution_count": null,
      "outputs": []
    },
    {
      "cell_type": "code",
      "source": [
        "\n",
        "plt.figure()\n",
        "plt.plot(divergence_values)\n",
        "plt.hlines(y=np.median(divergence_values), xmin=0, xmax=len(divergence_values), color='k')\n",
        "plt.xlabel(\"Scene Number\")\n",
        "plt.ylabel(\"KL Divergence\")\n",
        "plt.show()\n",
        "plt.close()"
      ],
      "metadata": {
        "id": "loZNg6hc8xWF"
      },
      "execution_count": null,
      "outputs": []
    },
    {
      "cell_type": "code",
      "source": [
        "tcm_offset = 1\n",
        "built_idx = largest_smaller(smoothed_divergence_values, np.median(divergence_values)) + tcm_offset"
      ],
      "metadata": {
        "id": "AjSakAas81BO"
      },
      "execution_count": null,
      "outputs": []
    },
    {
      "cell_type": "code",
      "source": [
        "print(\"The solar farm is estimated to be built by: \"+ dates[built_idx])"
      ],
      "metadata": {
        "id": "vswXnvx983kI"
      },
      "execution_count": null,
      "outputs": []
    },
    {
      "cell_type": "code",
      "source": [
        "show_images(rgb_images[built_idx - 2: built_idx + 3 ], dates[built_idx - 2: built_idx + 3 ])"
      ],
      "metadata": {
        "id": "uKtgmGA-847m"
      },
      "execution_count": null,
      "outputs": []
    },
    {
      "cell_type": "code",
      "source": [
        "!git clone https://github.com/EricSiq/solar-farms-mapping/tree/fbd4e0bc243ce1fa09bf851cd8d26d37835bf95b/data/landcover\n"
      ],
      "metadata": {
        "id": "ClKJ0npDSFHd"
      },
      "execution_count": null,
      "outputs": []
    },
    {
      "cell_type": "code",
      "source": [
        "landcover_urls = [\n",
        "        \"../data/landcover/2015_landcover_india.tif\",\n",
        "        \"../data/landcover/2016_landcover_india.tif\",\n",
        "        \"../data/landcover/2017_landcover_india.tif\",\n",
        "        \"../data/landcover/2018_landcover_india.tif\",\n",
        "        \"../data/landcover/2019_landcover_india.tif\"\n",
        "\n",
        "]"
      ],
      "metadata": {
        "id": "dA0g0q4t86YF"
      },
      "execution_count": null,
      "outputs": []
    },
    {
      "cell_type": "code",
      "source": [
        "landcover_cl = [0, 20, 30, 40, 50, 60, 70, 80, 90, 100, 111, 112, 113, 114, 115, 116, 121, 122, 124, 125, 126, 200]\n",
        "landcover_cl_text = [\"Unknown\", \"Shrubs\", \"Herbaceous vegetation\", \"Cultivated and managed vegetation / agriculture\",\n",
        "                     \"Urban / built up\", \"Bare / sparse vegetation\", \"Snow and ice\", \"Permanent water bodies\",\n",
        "                    \"Herbaceous wetland\", \"Moss and lichen\", \"Closed forest, evergreen needle leaf\", \"Closed forest, evergreen broad leaf\",\n",
        "                    \"Closed forest, deciduous needle leaf\", \"Closed forest, deciduous broad leaf\", \"Closed forest, mixed\",\n",
        "                    \"Closed forest\", \"Open forest, evergreen needle leaf.\", \"Open forest, evergreen broad leaf.\", \"Open forest, deciduous needle leaf.\",\n",
        "                    \"Open forest, deciduous broad leaf\", \"Open forest, mixed.\", \"Open forest\", \"Oceans, seas\" ]\n",
        "c2i = {cl:i for i,cl in enumerate(landcover_cl)}\n",
        "colors = np.array([[40, 40, 40],[255, 187, 34],[255, 255, 76],[240, 150, 255],[250, 0, 0], [180, 180, 180], [240, 240, 240], [0, 50, 200], [0, 150, 160], [250, 230, 160], [88, 72, 31], [0, 153, 0], [112, 102, 62], [0, 204, 0],[78, 117, 31], [0, 120, 0], [102, 96, 0], [141, 180, 0], [141, 116, 0], [160, 220, 0], [146, 153, 0], [100, 140, 0], [0, 0, 128]])/255.\n",
        "\n",
        "\n",
        "def vis_lc(r):\n",
        "    r = np.squeeze(r)\n",
        "    z = np.zeros((3,) + r.shape)\n",
        "    r = np.array([(r==landcover_cl[i]) for i in range(len(landcover_cl))])\n",
        "    s = r / r.sum(0)\n",
        "    for c in range(len(landcover_cl)):\n",
        "        for ch in range(3):\n",
        "            z[ch] += colors[c,ch] * s[c]\n",
        "    z = np.rollaxis(z, 0, 3)\n",
        "\n",
        "    return z"
      ],
      "metadata": {
        "id": "7Yg8EVW788Mt"
      },
      "execution_count": null,
      "outputs": []
    },
    {
      "cell_type": "code",
      "source": [
        "def get_mask_and_bounding_geoms(geom, buffer):\n",
        "    footprint_shape = shapely.geometry.shape(geom).buffer(0.0)\n",
        "    bounding_shape = footprint_shape.envelope.buffer(buffer).envelope\n",
        "    mask_geom = shapely.geometry.mapping(bounding_shape - footprint_shape) # full bounding area - initial footprint\n",
        "    bounding_geom = shapely.geometry.mapping(bounding_shape) # full bounding area\n",
        "    return mask_geom, bounding_geom\n",
        "\n",
        "def get_landcover_stack_from_geom(geom, buffer, urls):\n",
        "    mask_geom, bounding_geom = get_mask_and_bounding_geoms(geom, buffer)\n",
        "    images = []\n",
        "    labels = []\n",
        "    for url in urls:\n",
        "        with rasterio.Env(**RASTERIO_BEST_PRACTICES):\n",
        "            with rasterio.open(url) as f:\n",
        "                mask_image, _ = rio_mask(f, [mask_geom], crop=True, invert=False, pad=False, all_touched=True)\n",
        "\n",
        "                full_image, _ = rio_mask(f, [bounding_geom], crop=True, invert=False, pad=False, all_touched=True)\n",
        "                landcover = vis_lc(full_image)\n",
        "        images.append((landcover))\n",
        "        labels.append((full_image))\n",
        "    return images, labels"
      ],
      "metadata": {
        "id": "Ld8wWArQ89kF"
      },
      "execution_count": null,
      "outputs": []
    },
    {
      "cell_type": "code",
      "source": [
        "landcover, landcover_classes = get_landcover_stack_from_geom(geoms[geom_id], buffer=0, urls=landcover_urls)\n",
        "from datetime import datetime\n",
        "from dateutil.relativedelta import relativedelta\n",
        "\n",
        "dates_list = [datetime.strptime(date, '%m-%d-%Y').date() for date in dates]\n",
        "before_built_date= dates_list[built_idx] - relativedelta(years=1)\n",
        "print(before_built_date)"
      ],
      "metadata": {
        "id": "64ck0onE9BVV"
      },
      "execution_count": null,
      "outputs": []
    },
    {
      "cell_type": "code",
      "source": [
        "year=str(before_built_date.year)\n",
        "landcover_idx = [i for i, j in enumerate(landcover_urls) if year in j]\n",
        "\n",
        "imagery_idx = [i for i, j in enumerate(dates) if year in j]"
      ],
      "metadata": {
        "id": "g4z6VtIB9E-m"
      },
      "execution_count": null,
      "outputs": []
    },
    {
      "cell_type": "code",
      "source": [
        "f, axarr = plt.subplots(1,2)\n",
        "axarr[0].imshow(landcover[landcover_idx[0]])\n",
        "axarr[0].set_title(f\"LULC before built\")\n",
        "axarr[0].axis(\"off\")\n",
        "axarr[1].imshow(rgb_images[imagery_idx[0]])\n",
        "axarr[1].set_title(f\"S2 Imagery for: \" + dates[imagery_idx[0]])\n",
        "plt.axis(\"off\")\n",
        "plt.show()"
      ],
      "metadata": {
        "id": "DNMODL869IX2"
      },
      "execution_count": null,
      "outputs": []
    },
    {
      "cell_type": "code",
      "source": [
        "\n",
        "lc, counts = np.unique(landcover_classes[landcover_idx[0]], return_counts=True)"
      ],
      "metadata": {
        "id": "r4F_qAKs9JzG"
      },
      "execution_count": null,
      "outputs": []
    },
    {
      "cell_type": "code",
      "source": [
        "max_count = max(counts)\n",
        "landcover_mode = lc[list(counts).index(max_count)]"
      ],
      "metadata": {
        "id": "OR9NT5SC9LiO"
      },
      "execution_count": null,
      "outputs": []
    },
    {
      "cell_type": "code",
      "source": [
        "print(\"The most common LCLU class for where this solar farm was built was: \",landcover_cl_text[list(landcover_cl).index(landcover_mode)])"
      ],
      "metadata": {
        "id": "o-Dg9k1p9NM1"
      },
      "execution_count": null,
      "outputs": []
    },
    {
      "cell_type": "code",
      "source": [],
      "metadata": {
        "id": "qzTWWYodRumj"
      },
      "execution_count": null,
      "outputs": []
    }
  ]
}